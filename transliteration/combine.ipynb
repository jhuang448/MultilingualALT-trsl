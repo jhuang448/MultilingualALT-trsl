{
 "cells": [
  {
   "cell_type": "code",
   "execution_count": null,
   "id": "f192a13b",
   "metadata": {},
   "outputs": [],
   "source": [
    "import pandas as pd\n",
    "import numpy as np\n",
    "import os\n",
    "from tqdm import tqdm"
   ]
  },
  {
   "cell_type": "code",
   "execution_count": null,
   "id": "687e6f9f",
   "metadata": {},
   "outputs": [],
   "source": [
    "# ground truth files\n",
    "csv_dir = \"./csv_folder/\""
   ]
  },
  {
   "cell_type": "code",
   "execution_count": null,
   "id": "6ded9fcb",
   "metadata": {},
   "outputs": [],
   "source": [
    "# check content\n",
    "df_dir = \"./conditioning/results/film/123/wer_train-{}-{}_inf.csv\"\n",
    "target_langs = \"en\"\n",
    "source_lang = \"fr\"\n",
    "pd.read_csv(df_dir.format(source_lang, target_langs), index_col=0)"
   ]
  },
  {
   "cell_type": "code",
   "execution_count": 2,
   "id": "aaa69f46",
   "metadata": {},
   "outputs": [],
   "source": [
    "def process_df(source_lang, target_langs, field=\"pred\"):\n",
    "    # load ground truth\n",
    "    df = pd.read_csv(os.path.join(csv_dir, \"1lang\", \"train-{}.csv\".format(source_lang)), index_col=0)\n",
    "    df[source_lang] = df.wrd\n",
    "    \n",
    "    for target_lang in target_langs:\n",
    "        # construct phonetic reinterpretation in target_lang\n",
    "        df[target_lang] = [\"\"] * len(df)\n",
    "        df_tran = pd.read_csv(df_dir.format(source_lang, target_lang), index_col=0)\n",
    "        \n",
    "        for idx in tqdm(df.index):\n",
    "            txt = df_tran.loc[idx, field]\n",
    "            if pd.isnull(txt):\n",
    "                df.loc[idx, target_lang] = \"\"\n",
    "                continue\n",
    "            txt = txt.replace(\"<unk>\", \"\")\n",
    "            if \"<\" in txt or len(txt) < 3:\n",
    "                df.loc[idx, target_lang] = \"\"\n",
    "            else:\n",
    "                df.loc[idx, target_lang] = txt\n",
    "        \n",
    "    return df"
   ]
  },
  {
   "cell_type": "code",
   "execution_count": null,
   "id": "6483a299",
   "metadata": {},
   "outputs": [],
   "source": [
    "# do it for each language...\n",
    "df_es = process_df(\"es\", [\"en\", \"fr\", \"de\"], field=\"pred\")\n",
    "df_de = process_df(\"de\", [\"en\", \"fr\", \"es\"], field=\"pred\")\n",
    "df_fr = process_df(\"fr\", [\"en\", \"de\", \"es\"], field=\"pred\")\n",
    "df_en = process_df(\"en\", [\"es\", \"fr\", \"de\"], field=\"pred\")"
   ]
  },
  {
   "cell_type": "code",
   "execution_count": null,
   "id": "941f5c5c",
   "metadata": {},
   "outputs": [],
   "source": [
    "# combine and save\n",
    "df = pd.concat([df_fr, df_es, df_de, df_en])\n",
    "df.to_csv(\"./csv_folder/tran/film123/tran-4lang.csv\")"
   ]
  }
 ],
 "metadata": {
  "kernelspec": {
   "display_name": "main",
   "language": "python",
   "name": "python3"
  },
  "language_info": {
   "codemirror_mode": {
    "name": "ipython",
    "version": 3
   },
   "file_extension": ".py",
   "mimetype": "text/x-python",
   "name": "python",
   "nbconvert_exporter": "python",
   "pygments_lexer": "ipython3",
   "version": "3.7.12"
  }
 },
 "nbformat": 4,
 "nbformat_minor": 5
}
